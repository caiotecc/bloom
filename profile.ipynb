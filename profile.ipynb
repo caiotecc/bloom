{
 "cells": [
  {
   "cell_type": "code",
   "execution_count": 1,
   "metadata": {},
   "outputs": [],
   "source": [
    "from urllib.parse import urlparse, parse_qs\n",
    "import pandas as pd\n",
    "from pandas import DataFrame\n",
    "import csv\n",
    "\n",
    "pd.options.display.float_format = '{:.0f}'.format"
   ]
  },
  {
   "cell_type": "code",
   "execution_count": 5,
   "metadata": {},
   "outputs": [],
   "source": [
    "def getCaracteres(url):\n",
    "    tam = 0\n",
    "    barras = 0\n",
    "    pontos = 0\n",
    "    percent = 0\n",
    "    ecomercial = 0\n",
    "    igual = 0\n",
    "    \n",
    "    # Tamanho da requisição\n",
    "    tam = len(url)\n",
    "    \n",
    "    # Contagem de Tokens\n",
    "    for i in url:\n",
    "        if i=='/':\n",
    "            barras +=1\n",
    "            \n",
    "    for i in url:\n",
    "        if i=='.':\n",
    "            pontos +=1\n",
    "    \n",
    "    for i in url:\n",
    "        if i=='%':\n",
    "            percent +=1\n",
    "    \n",
    "    for i in url:\n",
    "        if i=='&':\n",
    "            ecomercial +=1\n",
    "        \n",
    "    for i in url:\n",
    "        if i=='=':\n",
    "            igual +=1\n",
    "    \n",
    "    return barras, pontos, percent, ecomercial, igual"
   ]
  },
  {
   "cell_type": "code",
   "execution_count": 6,
   "metadata": {},
   "outputs": [],
   "source": [
    "# Cria perfis com 3 grupos: Numéricos, Alfabéticos e caracteres especiais\n",
    "def get3Grupos(url):\n",
    "    tam = 0\n",
    "    grupo1 = 0\n",
    "    grupo2 = 0\n",
    "    grupo3 = 0\n",
    "    \n",
    "    # Tamanho da requisição\n",
    "    tam = len(url)\n",
    "    \n",
    "    # Contagem de Tokens\n",
    "    for i in url:\n",
    "        if i=='0' or i=='1' or i=='2' or i=='3' or i=='4' or i=='5' or i=='6' or i=='7' or i=='8' or i=='9':\n",
    "            grupo1 +=1\n",
    "            \n",
    "    for i in url:\n",
    "        if i=='a' or i=='b' or i=='c' or i=='d' or i=='e' or i=='f' or i=='g'or i=='h' or i=='i' or i=='j' or i=='k' or i=='l' or i=='m' or i=='n' or i=='o' or i=='p' or i=='q' or i=='r' or i=='s' or i=='t' or i=='u' or i=='v' or i=='x' or i=='z' or i=='w' or i=='y' or i=='A' or i=='B' or i=='C' or i=='D' or i=='E' or i=='F' or i=='G'or i=='H' or i=='I' or i=='J' or i=='K' or i=='L' or i=='M' or i=='N' or i=='O' or i=='P' or i=='Q' or i=='R' or i=='S' or i=='T' or i=='U' or i=='V' or i=='X' or i=='Z' or i=='W' or i=='Y':\n",
    "            grupo2 +=1\n",
    "\n",
    "    grupo3 = (len(url) - (grupo2 + grupo3))\n",
    "    \n",
    "    return tam, grupo1, grupo2, grupo3"
   ]
  },
  {
   "cell_type": "markdown",
   "metadata": {},
   "source": [
    "# Gera os arquivos com os perfis do cenário 1"
   ]
  },
  {
   "cell_type": "code",
   "execution_count": 34,
   "metadata": {},
   "outputs": [],
   "source": [
    "urls = open(\"./ataques/xss.csv\").read().splitlines()\n",
    "\n",
    "total = []\n",
    "\n",
    "# Escreve os perfis em um arquivo CSV\n",
    "with open('./perfil_caracteres/xss.csv', 'w') as csvfile:\n",
    "    perfil = csv.writer(csvfile)\n",
    "    \n",
    "    for i in urls:\n",
    "        tok = getCaracteres(i)\n",
    "        perfil.writerow(list(tok))"
   ]
  },
  {
   "cell_type": "markdown",
   "metadata": {},
   "source": [
    "# Gera os arquivos com os perfis do cenário 2"
   ]
  },
  {
   "cell_type": "code",
   "execution_count": 35,
   "metadata": {},
   "outputs": [],
   "source": [
    "urls = open(\"./ataques/xss.csv\").read().splitlines()\n",
    "\n",
    "total = []\n",
    "\n",
    "# Escreve os perfis em um arquivo CSV\n",
    "with open('./perfil_3g/xss.csv', 'w') as csvfile:\n",
    "    perfil = csv.writer(csvfile)\n",
    "    \n",
    "    for i in urls:\n",
    "        tok = get3Grupos(i)\n",
    "        perfil.writerow(list(tok))"
   ]
  }
 ],
 "metadata": {
  "kernelspec": {
   "display_name": "Python 3",
   "language": "python",
   "name": "python3"
  },
  "language_info": {
   "codemirror_mode": {
    "name": "ipython",
    "version": 3
   },
   "file_extension": ".py",
   "mimetype": "text/x-python",
   "name": "python",
   "nbconvert_exporter": "python",
   "pygments_lexer": "ipython3",
   "version": "3.6.5"
  }
 },
 "nbformat": 4,
 "nbformat_minor": 2
}
