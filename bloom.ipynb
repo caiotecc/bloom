{
 "cells": [
  {
   "cell_type": "code",
   "execution_count": 14,
   "metadata": {},
   "outputs": [
    {
     "name": "stdout",
     "output_type": "stream",
     "text": [
      "Quantidades de dados normais\n",
      "normal= 8161\n",
      "\n",
      "Quantidades de ataques\n",
      "bufferoverflow= 412\n",
      "crlfi= 327\n",
      "formatstring= 41\n",
      "ldapi= 74\n",
      "sqli= 43013\n",
      "xpath= 175\n",
      "xss= 4817\n"
     ]
    }
   ],
   "source": [
    "import math\n",
    "import numpy as np\n",
    "import pandas as pd\n",
    "\n",
    "#Ler conjunto de dados de preenchimento normal\n",
    "normal = open(\"./normal/normal.csv\").read().splitlines()\n",
    "\n",
    "# conjunto de ataques\n",
    "bufferoverflow = open('./ataques/bufferoverflow.csv').read().splitlines()\n",
    "crlfi = open('./ataques/crlfi.csv').read().splitlines()\n",
    "formatstring = open('./ataques/formatstring.csv').read().splitlines()\n",
    "ldapi = open('./ataques/ldapi.csv').read().splitlines()\n",
    "sqli = open('./ataques/sqli.csv').read().splitlines()\n",
    "ssi = open('./ataques/ssi.csv').read().splitlines()\n",
    "xpath = open('./ataques/xpath.csv').read().splitlines()\n",
    "xss = open('./ataques/xss.csv').read().splitlines()\n",
    "\n",
    "print('Quantidades de dados normais')\n",
    "print('normal=', len(normal))\n",
    "print('\\nQuantidades de ataques')\n",
    "print('bufferoverflow=', len(bufferoverflow))\n",
    "print('crlfi=', len(crlfi))\n",
    "print('formatstring=', len(formatstring))\n",
    "print('ldapi=', len(ldapi))\n",
    "print('sqli=', len(sqli))\n",
    "print('xpath=', len(xpath))\n",
    "print('xss=', len(xss))"
   ]
  },
  {
   "cell_type": "code",
   "execution_count": 16,
   "metadata": {},
   "outputs": [],
   "source": [
    "from bitarray import bitarray\n",
    "import mmh3\n",
    "\n",
    "class BloomFilter:\n",
    "    \n",
    "    def __init__(self, size, hash_count):\n",
    "        self.size = size\n",
    "        self.hash_count = hash_count\n",
    "        self.bit_array = bitarray(size)\n",
    "        self.bit_array.setall(0)\n",
    "        \n",
    "    def add(self, string):\n",
    "        for seed in range(self.hash_count):\n",
    "            result = mmh3.hash(string, seed) % self.size\n",
    "            self.bit_array[result] = 1\n",
    "            \n",
    "    def lookup(self, string):\n",
    "        for seed in range(self.hash_count):\n",
    "            result = mmh3.hash(string, seed) % self.size\n",
    "            if self.bit_array[result] == 0:\n",
    "                return False # Se 0 é pq não está no array\n",
    "        return True # Se 1 é pq talvez está no array"
   ]
  },
  {
   "cell_type": "code",
   "execution_count": 17,
   "metadata": {},
   "outputs": [
    {
     "name": "stdout",
     "output_type": "stream",
     "text": [
      "Imprime a configuração ideal do Filtro para a quantidade de itens da base de treino\n",
      "Qtde de itens na base de treino: 8161\n",
      "Probabilidade de FP: 0.01\n",
      "Tamanho do Filtro: 78224\n",
      "Nº de funções hash: 7\n"
     ]
    }
   ],
   "source": [
    "# Escolhe a base de treino\n",
    "treino = normal\n",
    "\n",
    "n = len(treino)\n",
    "p = 0.01\n",
    "\n",
    "#Calcular tamanho do Filtro\n",
    "m = -(n*math.log(p))/(math.log(2)**2)\n",
    "k = (m/n) * math.log(2)\n",
    "\n",
    "# Arredonda o valores de m e k\n",
    "m_tam = round(m)\n",
    "k_hash = round(k)\n",
    "\n",
    "print('Imprime a configuração ideal do Filtro para a quantidade de itens da base de treino')\n",
    "print(\"Qtde de itens na base de treino:\", n)\n",
    "print(\"Probabilidade de FP:\", p)\n",
    "print(\"Tamanho do Filtro:\", m_tam)\n",
    "print(\"Nº de funções hash:\", k_hash)"
   ]
  },
  {
   "cell_type": "code",
   "execution_count": 18,
   "metadata": {},
   "outputs": [],
   "source": [
    "def consultaFiltro(perfis):\n",
    "        result = 0\n",
    "        for i in perfis:\n",
    "            if bf.lookup(i) == True:\n",
    "                result += 1\n",
    "        return result"
   ]
  },
  {
   "cell_type": "code",
   "execution_count": 50,
   "metadata": {},
   "outputs": [
    {
     "data": {
      "text/plain": [
       "[1, 0, 0, 0, 2, 0, 0]"
      ]
     },
     "execution_count": 50,
     "metadata": {},
     "output_type": "execute_result"
    }
   ],
   "source": [
    "# inicia o filtro com os parametros padrões\n",
    "bf = BloomFilter(200000, k_hash)\n",
    "resultado = []\n",
    "\n",
    "# preenche o filtro com os dados de treino\n",
    "for i in treino:\n",
    "    bf.add(i)\n",
    "    \n",
    "resultado.append(consultaFiltro(bufferoverflow))\n",
    "resultado.append(consultaFiltro(crlfi))\n",
    "resultado.append(consultaFiltro(formatstring))\n",
    "resultado.append(consultaFiltro(ldapi))\n",
    "resultado.append(consultaFiltro(sqli))\n",
    "resultado.append(consultaFiltro(xpath))\n",
    "resultado.append(consultaFiltro(xss))\n",
    "\n",
    "#df = pd.DataFrame(np.array(resultado).reshape(7,8), columns = list('Filtrou'), )\n",
    "#df\n",
    "resultado"
   ]
  },
  {
   "cell_type": "code",
   "execution_count": null,
   "metadata": {},
   "outputs": [],
   "source": []
  }
 ],
 "metadata": {
  "kernelspec": {
   "display_name": "Python 3",
   "language": "python",
   "name": "python3"
  },
  "language_info": {
   "codemirror_mode": {
    "name": "ipython",
    "version": 3
   },
   "file_extension": ".py",
   "mimetype": "text/x-python",
   "name": "python",
   "nbconvert_exporter": "python",
   "pygments_lexer": "ipython3",
   "version": "3.6.5"
  }
 },
 "nbformat": 4,
 "nbformat_minor": 2
}
