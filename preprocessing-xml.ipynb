{
 "cells": [
  {
   "cell_type": "code",
   "execution_count": 12,
   "metadata": {},
   "outputs": [],
   "source": [
    "import xml.etree.cElementTree as et\n",
    "import pandas as pd\n",
    "import csv"
   ]
  },
  {
   "cell_type": "markdown",
   "metadata": {},
   "source": [
    "# Extrai dados dos arquivos XML originais do dataset"
   ]
  },
  {
   "cell_type": "code",
   "execution_count": 20,
   "metadata": {},
   "outputs": [],
   "source": [
    "def getvalueofnode(node):\n",
    "    \"\"\" return node text or None \"\"\"\n",
    "    return node.text if node is not None else None\n",
    " \n",
    "def main():\n",
    "    \"\"\" main \"\"\"\n",
    "    parsed_xml = et.parse('allAttacks5.xml')\n",
    "    dfcols = ['method', 'consulta', 'type', 'attack']\n",
    "    df_xml = pd.DataFrame(columns=dfcols)\n",
    " \n",
    "    for node in parsed_xml.getroot():\n",
    "        method = node.find('request/method')\n",
    "        query = node.find('request/query')\n",
    "        body = node.find('request/body')\n",
    "        tipo = node.find('label/type')\n",
    "        attack = node.find('label/attack')\n",
    " \n",
    "        if getvalueofnode(method) == 'POST':\n",
    "            df_xml = df_xml.append(            \n",
    "            pd.Series(\n",
    "                [getvalueofnode(method),\n",
    "                getvalueofnode(body),\n",
    "                getvalueofnode(tipo),\n",
    "                getvalueofnode(attack)],\n",
    "                index=dfcols), \n",
    "                ignore_index=True)\n",
    "        elif getvalueofnode(method) == 'GET':\n",
    "            df_xml = df_xml.append(            \n",
    "            pd.Series(\n",
    "                [getvalueofnode(method),\n",
    "                getvalueofnode(query),\n",
    "                getvalueofnode(tipo),\n",
    "                getvalueofnode(attack)],\n",
    "                index=dfcols), \n",
    "                ignore_index=True)\n",
    "                 \n",
    "\n",
    "    writer = pd.ExcelWriter('allAttacks5.xls', engine='xlsxwriter')\n",
    "    df_xml.to_excel(writer, sheet_name='Sheet1')\n",
    "    writer.save()\n",
    "    \n",
    "main()"
   ]
  }
 ],
 "metadata": {
  "kernelspec": {
   "display_name": "Python 3",
   "language": "python",
   "name": "python3"
  },
  "language_info": {
   "codemirror_mode": {
    "name": "ipython",
    "version": 3
   },
   "file_extension": ".py",
   "mimetype": "text/x-python",
   "name": "python",
   "nbconvert_exporter": "python",
   "pygments_lexer": "ipython3",
   "version": "3.6.5"
  }
 },
 "nbformat": 4,
 "nbformat_minor": 2
}
